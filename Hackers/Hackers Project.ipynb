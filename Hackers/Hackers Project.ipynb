{
 "cells": [
  {
   "cell_type": "markdown",
   "id": "032cd90c-b0a3-4c09-b032-f0ac3f92f323",
   "metadata": {},
   "source": [
    "#### Data Summary:\n",
    "* The technology firm has 3 potential hackers that perpetrated the attack.  \n",
    "They are certain of the first two hackers but they aren't very sure if the third hacker was involved or not.\r\n",
    "They have requested your help! \r\n"
   ]
  },
  {
   "cell_type": "code",
   "execution_count": 1,
   "id": "a32e528e-fda3-4538-a10c-05ffa5f1a949",
   "metadata": {},
   "outputs": [],
   "source": [
    "from pyspark.sql import SparkSession"
   ]
  },
  {
   "cell_type": "code",
   "execution_count": 2,
   "id": "a5e4f47f-c222-4e05-ac32-cc46aa2ca3c3",
   "metadata": {},
   "outputs": [],
   "source": [
    "spark = SparkSession.builder.appName('kmeanshack').getOrCreate()"
   ]
  },
  {
   "cell_type": "code",
   "execution_count": 3,
   "id": "80fc7ca1-96df-44d3-aef6-1a0ef5e0accb",
   "metadata": {},
   "outputs": [],
   "source": [
    "df = spark.read.csv('hack_data.csv', inferSchema = True, header = True)"
   ]
  },
  {
   "cell_type": "code",
   "execution_count": 4,
   "id": "64cdbc22-82c4-4091-a9fe-25f98d222cc6",
   "metadata": {},
   "outputs": [
    {
     "name": "stdout",
     "output_type": "stream",
     "text": [
      "+-----------------------+-----------------+---------------+-----------------+---------------+--------------------+----------------+\n",
      "|Session_Connection_Time|Bytes Transferred|Kali_Trace_Used|Servers_Corrupted|Pages_Corrupted|            Location|WPM_Typing_Speed|\n",
      "+-----------------------+-----------------+---------------+-----------------+---------------+--------------------+----------------+\n",
      "|                    8.0|           391.09|              1|             2.96|            7.0|            Slovenia|           72.37|\n",
      "|                   20.0|           720.99|              0|             3.04|            9.0|British Virgin Is...|           69.08|\n",
      "|                   31.0|           356.32|              1|             3.71|            8.0|             Tokelau|           70.58|\n",
      "|                    2.0|           228.08|              1|             2.48|            8.0|             Bolivia|            70.8|\n",
      "|                   20.0|            408.5|              0|             3.57|            8.0|                Iraq|           71.28|\n",
      "+-----------------------+-----------------+---------------+-----------------+---------------+--------------------+----------------+\n",
      "only showing top 5 rows\n",
      "\n"
     ]
    }
   ],
   "source": [
    "df.show(5)"
   ]
  },
  {
   "cell_type": "code",
   "execution_count": 5,
   "id": "91ddc90d-3696-42b2-a193-0fa0e850591a",
   "metadata": {},
   "outputs": [
    {
     "name": "stdout",
     "output_type": "stream",
     "text": [
      "root\n",
      " |-- Session_Connection_Time: double (nullable = true)\n",
      " |-- Bytes Transferred: double (nullable = true)\n",
      " |-- Kali_Trace_Used: integer (nullable = true)\n",
      " |-- Servers_Corrupted: double (nullable = true)\n",
      " |-- Pages_Corrupted: double (nullable = true)\n",
      " |-- Location: string (nullable = true)\n",
      " |-- WPM_Typing_Speed: double (nullable = true)\n",
      "\n"
     ]
    }
   ],
   "source": [
    "df.printSchema()"
   ]
  },
  {
   "cell_type": "code",
   "execution_count": 6,
   "id": "7f97bc7f-6167-44c7-8a61-d07d637fa731",
   "metadata": {},
   "outputs": [],
   "source": [
    "from pyspark.ml.feature import VectorAssembler, StandardScaler"
   ]
  },
  {
   "cell_type": "code",
   "execution_count": 7,
   "id": "eae20c7d-7b77-45ec-bdf9-edcfa30244a0",
   "metadata": {},
   "outputs": [
    {
     "data": {
      "text/plain": [
       "['Session_Connection_Time',\n",
       " 'Bytes Transferred',\n",
       " 'Kali_Trace_Used',\n",
       " 'Servers_Corrupted',\n",
       " 'Pages_Corrupted',\n",
       " 'Location',\n",
       " 'WPM_Typing_Speed']"
      ]
     },
     "execution_count": 7,
     "metadata": {},
     "output_type": "execute_result"
    }
   ],
   "source": [
    "df.columns"
   ]
  },
  {
   "cell_type": "code",
   "execution_count": 11,
   "id": "dd4a14d2-3f2d-4fbf-aeb7-d583e0388781",
   "metadata": {},
   "outputs": [],
   "source": [
    "df = df.drop('Location')"
   ]
  },
  {
   "cell_type": "code",
   "execution_count": 12,
   "id": "fe72d627-027e-4ff9-935d-243adc5e5806",
   "metadata": {},
   "outputs": [],
   "source": [
    "assembler = VectorAssembler(inputCols = df.columns, outputCol = 'features')"
   ]
  },
  {
   "cell_type": "code",
   "execution_count": 13,
   "id": "462b55fe-27b8-484a-a071-4dac957d0edf",
   "metadata": {},
   "outputs": [],
   "source": [
    "output = assembler.transform(df)"
   ]
  },
  {
   "cell_type": "code",
   "execution_count": 14,
   "id": "de420433-8494-47c5-9751-5f853c149b5b",
   "metadata": {},
   "outputs": [
    {
     "name": "stdout",
     "output_type": "stream",
     "text": [
      "+-----------------------+-----------------+---------------+-----------------+---------------+----------------+--------------------+\n",
      "|Session_Connection_Time|Bytes Transferred|Kali_Trace_Used|Servers_Corrupted|Pages_Corrupted|WPM_Typing_Speed|            features|\n",
      "+-----------------------+-----------------+---------------+-----------------+---------------+----------------+--------------------+\n",
      "|                    8.0|           391.09|              1|             2.96|            7.0|           72.37|[8.0,391.09,1.0,2...|\n",
      "|                   20.0|           720.99|              0|             3.04|            9.0|           69.08|[20.0,720.99,0.0,...|\n",
      "|                   31.0|           356.32|              1|             3.71|            8.0|           70.58|[31.0,356.32,1.0,...|\n",
      "|                    2.0|           228.08|              1|             2.48|            8.0|            70.8|[2.0,228.08,1.0,2...|\n",
      "|                   20.0|            408.5|              0|             3.57|            8.0|           71.28|[20.0,408.5,0.0,3...|\n",
      "+-----------------------+-----------------+---------------+-----------------+---------------+----------------+--------------------+\n",
      "only showing top 5 rows\n",
      "\n"
     ]
    }
   ],
   "source": [
    "output.show(5)"
   ]
  },
  {
   "cell_type": "code",
   "execution_count": 15,
   "id": "424d2552-bef9-45ca-9e77-8d34032986cb",
   "metadata": {},
   "outputs": [
    {
     "name": "stdout",
     "output_type": "stream",
     "text": [
      "root\n",
      " |-- Session_Connection_Time: double (nullable = true)\n",
      " |-- Bytes Transferred: double (nullable = true)\n",
      " |-- Kali_Trace_Used: integer (nullable = true)\n",
      " |-- Servers_Corrupted: double (nullable = true)\n",
      " |-- Pages_Corrupted: double (nullable = true)\n",
      " |-- WPM_Typing_Speed: double (nullable = true)\n",
      " |-- features: vector (nullable = true)\n",
      "\n"
     ]
    }
   ],
   "source": [
    "output.printSchema()"
   ]
  },
  {
   "cell_type": "code",
   "execution_count": 17,
   "id": "ef69d61e-9889-4ad4-b4b1-01e11bc2bfca",
   "metadata": {},
   "outputs": [],
   "source": [
    "scaler = StandardScaler(inputCol = 'features', outputCol = 'scaledFeatures')"
   ]
  },
  {
   "cell_type": "code",
   "execution_count": 18,
   "id": "76fca002-e175-4622-8944-11202e8a8c08",
   "metadata": {},
   "outputs": [],
   "source": [
    "scaled_model = scaler.fit(output)"
   ]
  },
  {
   "cell_type": "code",
   "execution_count": 19,
   "id": "ec7f66ce-ea27-4a39-a781-95077bb3723b",
   "metadata": {},
   "outputs": [],
   "source": [
    "final_data = scaled_model.transform(output)"
   ]
  },
  {
   "cell_type": "code",
   "execution_count": 21,
   "id": "51639c88-6642-4c3d-a151-143d189bd04f",
   "metadata": {},
   "outputs": [
    {
     "name": "stdout",
     "output_type": "stream",
     "text": [
      "+-----------------------+-----------------+---------------+-----------------+---------------+----------------+--------------------+--------------------+\n",
      "|Session_Connection_Time|Bytes Transferred|Kali_Trace_Used|Servers_Corrupted|Pages_Corrupted|WPM_Typing_Speed|            features|      scaledFeatures|\n",
      "+-----------------------+-----------------+---------------+-----------------+---------------+----------------+--------------------+--------------------+\n",
      "|                    8.0|           391.09|              1|             2.96|            7.0|           72.37|[8.0,391.09,1.0,2...|[0.56785108466505...|\n",
      "|                   20.0|           720.99|              0|             3.04|            9.0|           69.08|[20.0,720.99,0.0,...|[1.41962771166263...|\n",
      "|                   31.0|           356.32|              1|             3.71|            8.0|           70.58|[31.0,356.32,1.0,...|[2.20042295307707...|\n",
      "|                    2.0|           228.08|              1|             2.48|            8.0|            70.8|[2.0,228.08,1.0,2...|[0.14196277116626...|\n",
      "|                   20.0|            408.5|              0|             3.57|            8.0|           71.28|[20.0,408.5,0.0,3...|[1.41962771166263...|\n",
      "+-----------------------+-----------------+---------------+-----------------+---------------+----------------+--------------------+--------------------+\n",
      "only showing top 5 rows\n",
      "\n"
     ]
    }
   ],
   "source": [
    "final_data.show(5)"
   ]
  },
  {
   "cell_type": "markdown",
   "id": "0f63c94b-8254-47ac-bfc4-5364e1ab1bbf",
   "metadata": {},
   "source": [
    "### Model Building"
   ]
  },
  {
   "cell_type": "code",
   "execution_count": 22,
   "id": "6b424697-b651-4fc9-bd43-1fe22520bd91",
   "metadata": {},
   "outputs": [],
   "source": [
    "from pyspark.ml.clustering import KMeans"
   ]
  },
  {
   "cell_type": "code",
   "execution_count": 33,
   "id": "2d407101-932f-4b66-a06b-e7005595ff01",
   "metadata": {},
   "outputs": [],
   "source": [
    "kmeans_k3 = KMeans(featuresCol = 'scaledFeatures', k = 3) # as per summary three hacking groups\n",
    "kmeans_k2 = KMeans(featuresCol = 'scaledFeatures', k = 2)"
   ]
  },
  {
   "cell_type": "code",
   "execution_count": 34,
   "id": "c78619b8-2b66-4437-9dd1-700645eb84fb",
   "metadata": {},
   "outputs": [],
   "source": [
    "model_k2 = kmeans_k2.fit(final_data)\n",
    "model_k3 = kmeans_k3.fit(final_data)"
   ]
  },
  {
   "cell_type": "code",
   "execution_count": 36,
   "id": "811db35a-f392-4177-b074-30d6f6447908",
   "metadata": {},
   "outputs": [],
   "source": [
    "results_k2 = model_k2.transform(final_data)\n",
    "results_k3 = model_k3.transform(final_data)"
   ]
  },
  {
   "cell_type": "code",
   "execution_count": 37,
   "id": "ae6bcb7e-ea84-43c6-af12-aa2b3a767f95",
   "metadata": {},
   "outputs": [
    {
     "name": "stdout",
     "output_type": "stream",
     "text": [
      "+----------+-----+\n",
      "|prediction|count|\n",
      "+----------+-----+\n",
      "|         1|  167|\n",
      "|         0|  167|\n",
      "+----------+-----+\n",
      "\n"
     ]
    }
   ],
   "source": [
    "results_k2.groupBy('prediction').count().show()"
   ]
  },
  {
   "cell_type": "code",
   "execution_count": 38,
   "id": "14ff3d5f-58cd-423e-ba74-f6e687053a43",
   "metadata": {},
   "outputs": [
    {
     "name": "stdout",
     "output_type": "stream",
     "text": [
      "+----------+-----+\n",
      "|prediction|count|\n",
      "+----------+-----+\n",
      "|         1|   88|\n",
      "|         2|   79|\n",
      "|         0|  167|\n",
      "+----------+-----+\n",
      "\n"
     ]
    }
   ],
   "source": [
    "results_k3.groupBy('prediction').count().show()"
   ]
  },
  {
   "cell_type": "markdown",
   "id": "079953b7-b19e-449c-94d4-9a53496ef27d",
   "metadata": {},
   "source": [
    "* Since K2 model is having even cluster K2 model is correct model, where K3 is having an uneven clusetering"
   ]
  },
  {
   "cell_type": "code",
   "execution_count": 39,
   "id": "8ae97cf0-07f0-4fe6-a0a2-91243c1828aa",
   "metadata": {},
   "outputs": [],
   "source": [
    "centers = model_k2.clusterCenters()"
   ]
  },
  {
   "cell_type": "code",
   "execution_count": 40,
   "id": "03937378-cf55-4c73-9875-751b2a31c1c0",
   "metadata": {},
   "outputs": [
    {
     "name": "stdout",
     "output_type": "stream",
     "text": [
      "[array([1.26023837, 1.31829808, 0.99280765, 1.36491885, 2.5625043 ,\n",
      "       5.26676612]), array([2.99991988, 2.92319035, 1.05261534, 3.20390443, 4.51321315,\n",
      "       3.28474   ])]\n"
     ]
    }
   ],
   "source": [
    "print(centers)"
   ]
  },
  {
   "cell_type": "code",
   "execution_count": 41,
   "id": "b1d6ffa2-e753-4295-aa54-39be69d063fb",
   "metadata": {},
   "outputs": [
    {
     "name": "stdout",
     "output_type": "stream",
     "text": [
      "+-----------------------+-----------------+---------------+-----------------+---------------+----------------+--------------------+--------------------+----------+\n",
      "|Session_Connection_Time|Bytes Transferred|Kali_Trace_Used|Servers_Corrupted|Pages_Corrupted|WPM_Typing_Speed|            features|      scaledFeatures|prediction|\n",
      "+-----------------------+-----------------+---------------+-----------------+---------------+----------------+--------------------+--------------------+----------+\n",
      "|                    8.0|           391.09|              1|             2.96|            7.0|           72.37|[8.0,391.09,1.0,2...|[0.56785108466505...|         0|\n",
      "|                   20.0|           720.99|              0|             3.04|            9.0|           69.08|[20.0,720.99,0.0,...|[1.41962771166263...|         0|\n",
      "|                   31.0|           356.32|              1|             3.71|            8.0|           70.58|[31.0,356.32,1.0,...|[2.20042295307707...|         0|\n",
      "|                    2.0|           228.08|              1|             2.48|            8.0|            70.8|[2.0,228.08,1.0,2...|[0.14196277116626...|         0|\n",
      "|                   20.0|            408.5|              0|             3.57|            8.0|           71.28|[20.0,408.5,0.0,3...|[1.41962771166263...|         0|\n",
      "+-----------------------+-----------------+---------------+-----------------+---------------+----------------+--------------------+--------------------+----------+\n",
      "only showing top 5 rows\n",
      "\n"
     ]
    }
   ],
   "source": [
    "results_k2.show(5)"
   ]
  },
  {
   "cell_type": "markdown",
   "id": "f0477f3f-6882-4f39-9d06-a63fd634fad2",
   "metadata": {},
   "source": [
    "### Model Evaluation"
   ]
  },
  {
   "cell_type": "code",
   "execution_count": 31,
   "id": "acc051d1-278a-41db-88ad-624d96a9c2c5",
   "metadata": {},
   "outputs": [],
   "source": [
    "from pyspark.ml.evaluation import ClusteringEvaluator"
   ]
  },
  {
   "cell_type": "code",
   "execution_count": 43,
   "id": "55465dfa-74e9-40c0-a3ed-8139de5445b7",
   "metadata": {},
   "outputs": [
    {
     "name": "stdout",
     "output_type": "stream",
     "text": [
      "Within Set Sum of Squared Errors: 601.7707512676691\n",
      "Silhouette with squared euclidean distance: 0.6683623593283755\n"
     ]
    }
   ],
   "source": [
    "wssse = model_k2.summary.trainingCost\n",
    "evaluator = ClusteringEvaluator()\n",
    "silhouette = evaluator.evaluate(results_k2)\n",
    "\n",
    "print(f\"Within Set Sum of Squared Errors: {wssse}\")\n",
    "print(f\"Silhouette with squared euclidean distance: {silhouette}\")"
   ]
  }
 ],
 "metadata": {
  "kernelspec": {
   "display_name": "Python 3 (ipykernel)",
   "language": "python",
   "name": "python3"
  },
  "language_info": {
   "codemirror_mode": {
    "name": "ipython",
    "version": 3
   },
   "file_extension": ".py",
   "mimetype": "text/x-python",
   "name": "python",
   "nbconvert_exporter": "python",
   "pygments_lexer": "ipython3",
   "version": "3.11.7"
  }
 },
 "nbformat": 4,
 "nbformat_minor": 5
}
