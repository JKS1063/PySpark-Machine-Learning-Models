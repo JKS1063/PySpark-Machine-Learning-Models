{
 "cells": [
  {
   "cell_type": "code",
   "execution_count": 1,
   "id": "197dee67-fcad-4585-8fe0-0a8a523332a1",
   "metadata": {},
   "outputs": [],
   "source": [
    "from pyspark.sql import SparkSession"
   ]
  },
  {
   "cell_type": "code",
   "execution_count": 2,
   "id": "443688f0-972e-46e5-98fc-9b7e82072fd0",
   "metadata": {},
   "outputs": [],
   "source": [
    "spark = SparkSession.builder.appName('tree').getOrCreate()"
   ]
  },
  {
   "cell_type": "code",
   "execution_count": 3,
   "id": "9e7f521d-0ff1-47a4-ac5c-cb946022ecdf",
   "metadata": {},
   "outputs": [],
   "source": [
    "df = spark.read.csv('College.csv', inferSchema = True, header = True)"
   ]
  },
  {
   "cell_type": "code",
   "execution_count": 4,
   "id": "4972aaff-9cbb-4dc7-9158-e01c7d8488e0",
   "metadata": {},
   "outputs": [
    {
     "data": {
      "text/plain": [
       "[Row(School='Abilene Christian University', Private='Yes', Apps=1660, Accept=1232, Enroll=721, Top10perc=23, Top25perc=52, F_Undergrad=2885, P_Undergrad=537, Outstate=7440, Room_Board=3300, Books=450, Personal=2200, PhD=70, Terminal=78, S_F_Ratio=18.1, perc_alumni=12, Expend=7041, Grad_Rate=60)]"
      ]
     },
     "execution_count": 4,
     "metadata": {},
     "output_type": "execute_result"
    }
   ],
   "source": [
    "df.head(1)"
   ]
  },
  {
   "cell_type": "code",
   "execution_count": 5,
   "id": "3cc7d04f-ea38-4dfa-a85e-e70a912c3c17",
   "metadata": {},
   "outputs": [
    {
     "name": "stdout",
     "output_type": "stream",
     "text": [
      "root\n",
      " |-- School: string (nullable = true)\n",
      " |-- Private: string (nullable = true)\n",
      " |-- Apps: integer (nullable = true)\n",
      " |-- Accept: integer (nullable = true)\n",
      " |-- Enroll: integer (nullable = true)\n",
      " |-- Top10perc: integer (nullable = true)\n",
      " |-- Top25perc: integer (nullable = true)\n",
      " |-- F_Undergrad: integer (nullable = true)\n",
      " |-- P_Undergrad: integer (nullable = true)\n",
      " |-- Outstate: integer (nullable = true)\n",
      " |-- Room_Board: integer (nullable = true)\n",
      " |-- Books: integer (nullable = true)\n",
      " |-- Personal: integer (nullable = true)\n",
      " |-- PhD: integer (nullable = true)\n",
      " |-- Terminal: integer (nullable = true)\n",
      " |-- S_F_Ratio: double (nullable = true)\n",
      " |-- perc_alumni: integer (nullable = true)\n",
      " |-- Expend: integer (nullable = true)\n",
      " |-- Grad_Rate: integer (nullable = true)\n",
      "\n"
     ]
    }
   ],
   "source": [
    "df.printSchema()"
   ]
  },
  {
   "cell_type": "code",
   "execution_count": 6,
   "id": "0a4477c7-c240-4cfd-8b7d-c2890c808e1f",
   "metadata": {},
   "outputs": [
    {
     "data": {
      "text/plain": [
       "['School',\n",
       " 'Private',\n",
       " 'Apps',\n",
       " 'Accept',\n",
       " 'Enroll',\n",
       " 'Top10perc',\n",
       " 'Top25perc',\n",
       " 'F_Undergrad',\n",
       " 'P_Undergrad',\n",
       " 'Outstate',\n",
       " 'Room_Board',\n",
       " 'Books',\n",
       " 'Personal',\n",
       " 'PhD',\n",
       " 'Terminal',\n",
       " 'S_F_Ratio',\n",
       " 'perc_alumni',\n",
       " 'Expend',\n",
       " 'Grad_Rate']"
      ]
     },
     "execution_count": 6,
     "metadata": {},
     "output_type": "execute_result"
    }
   ],
   "source": [
    "df.columns"
   ]
  },
  {
   "cell_type": "code",
   "execution_count": 7,
   "id": "a10f9157-5024-4d43-b67b-065c2dfbd64b",
   "metadata": {},
   "outputs": [],
   "source": [
    "from pyspark.ml.feature import VectorAssembler\n",
    "from pyspark.ml.feature import StringIndexer"
   ]
  },
  {
   "cell_type": "code",
   "execution_count": 8,
   "id": "42e97445-348f-4a2d-a0dc-e1e02c78d749",
   "metadata": {},
   "outputs": [],
   "source": [
    "assembler = VectorAssembler(inputCols = ['Apps', 'Accept', 'Enroll', 'Top10perc', \n",
    "                                         'Top25perc', 'F_Undergrad', 'P_Undergrad', \n",
    "                                         'Outstate', 'Room_Board', 'Books', 'Personal',\n",
    "                                         'PhD', 'Terminal', 'S_F_Ratio', 'perc_alumni',\n",
    "                                         'Expend', 'Grad_Rate'], outputCol = 'features')"
   ]
  },
  {
   "cell_type": "code",
   "execution_count": 9,
   "id": "2edb4018-d233-4ca6-9d2c-b247b0c1c6f1",
   "metadata": {},
   "outputs": [],
   "source": [
    "output = assembler.transform(df)"
   ]
  },
  {
   "cell_type": "code",
   "execution_count": 10,
   "id": "00ba4a2b-5df6-45ce-a299-e5cae16d1160",
   "metadata": {},
   "outputs": [],
   "source": [
    "indexer = StringIndexer(inputCol = 'Private', outputCol = 'PrivateIndex')"
   ]
  },
  {
   "cell_type": "code",
   "execution_count": 11,
   "id": "9f786814-f6d7-49ce-a5be-faf1d33f1356",
   "metadata": {},
   "outputs": [],
   "source": [
    "output_fixed = indexer.fit(output).transform(output)"
   ]
  },
  {
   "cell_type": "code",
   "execution_count": 12,
   "id": "371e5654-42e6-4154-8343-d54500428084",
   "metadata": {},
   "outputs": [
    {
     "name": "stdout",
     "output_type": "stream",
     "text": [
      "root\n",
      " |-- School: string (nullable = true)\n",
      " |-- Private: string (nullable = true)\n",
      " |-- Apps: integer (nullable = true)\n",
      " |-- Accept: integer (nullable = true)\n",
      " |-- Enroll: integer (nullable = true)\n",
      " |-- Top10perc: integer (nullable = true)\n",
      " |-- Top25perc: integer (nullable = true)\n",
      " |-- F_Undergrad: integer (nullable = true)\n",
      " |-- P_Undergrad: integer (nullable = true)\n",
      " |-- Outstate: integer (nullable = true)\n",
      " |-- Room_Board: integer (nullable = true)\n",
      " |-- Books: integer (nullable = true)\n",
      " |-- Personal: integer (nullable = true)\n",
      " |-- PhD: integer (nullable = true)\n",
      " |-- Terminal: integer (nullable = true)\n",
      " |-- S_F_Ratio: double (nullable = true)\n",
      " |-- perc_alumni: integer (nullable = true)\n",
      " |-- Expend: integer (nullable = true)\n",
      " |-- Grad_Rate: integer (nullable = true)\n",
      " |-- features: vector (nullable = true)\n",
      " |-- PrivateIndex: double (nullable = false)\n",
      "\n"
     ]
    }
   ],
   "source": [
    "output_fixed.printSchema()"
   ]
  },
  {
   "cell_type": "code",
   "execution_count": 13,
   "id": "db2f1393-b511-4bac-9a67-c607d8ac7d7d",
   "metadata": {},
   "outputs": [],
   "source": [
    "final_data = output_fixed.select(['features', 'PrivateIndex'])"
   ]
  },
  {
   "cell_type": "code",
   "execution_count": 14,
   "id": "2fe65f47-fb11-4798-aaa9-d60fac54a7b0",
   "metadata": {},
   "outputs": [],
   "source": [
    "train_data, test_data = final_data.randomSplit([0.7, 0.3])"
   ]
  },
  {
   "cell_type": "code",
   "execution_count": 15,
   "id": "1136f38c-fbe4-4666-9f99-0ed5bedf4870",
   "metadata": {},
   "outputs": [],
   "source": [
    "from pyspark.ml.classification import (DecisionTreeClassifier, GBTClassifier,\n",
    "                                       RandomForestClassifier)"
   ]
  },
  {
   "cell_type": "code",
   "execution_count": 16,
   "id": "a89ac5bb-33fa-4eae-b8d1-0b979e123b79",
   "metadata": {},
   "outputs": [],
   "source": [
    "dtc = DecisionTreeClassifier(labelCol = 'PrivateIndex', featuresCol = 'features')\n",
    "rfc = RandomForestClassifier(labelCol = 'PrivateIndex', featuresCol = 'features',\n",
    "                             numTrees = 200)\n",
    "gbt = GBTClassifier(labelCol = 'PrivateIndex', featuresCol = 'features')"
   ]
  },
  {
   "cell_type": "code",
   "execution_count": 17,
   "id": "8ca74fb6-4e81-4cc3-bea6-073c2ff973af",
   "metadata": {},
   "outputs": [],
   "source": [
    "dtc_model = dtc.fit(train_data)\n",
    "rfc_model = rfc.fit(train_data)\n",
    "gbt_model = gbt.fit(train_data)"
   ]
  },
  {
   "cell_type": "code",
   "execution_count": 18,
   "id": "fb5e1fe0-5369-4bae-ad42-fe0dfaba50bd",
   "metadata": {},
   "outputs": [],
   "source": [
    "dtc_preds = dtc_model.transform(test_data)\n",
    "rfc_preds = rfc_model.transform(test_data)\n",
    "gbt_preds = gbt_model.transform(test_data)"
   ]
  },
  {
   "cell_type": "code",
   "execution_count": 19,
   "id": "71a99f2a-d106-4534-8112-13e44b316c00",
   "metadata": {},
   "outputs": [],
   "source": [
    "from pyspark.ml.evaluation import BinaryClassificationEvaluator"
   ]
  },
  {
   "cell_type": "code",
   "execution_count": 20,
   "id": "aeeaa92b-a700-46a9-9f0b-2449907ec570",
   "metadata": {},
   "outputs": [],
   "source": [
    "my_binary_eval = BinaryClassificationEvaluator(labelCol = 'PrivateIndex')"
   ]
  },
  {
   "cell_type": "code",
   "execution_count": 21,
   "id": "4d31a830-ef9d-48c4-bfc2-eafbd83eaebf",
   "metadata": {},
   "outputs": [],
   "source": [
    "dtc_eval = my_binary_eval.evaluate(dtc_preds)\n",
    "rfc_eval = my_binary_eval.evaluate(rfc_preds)"
   ]
  },
  {
   "cell_type": "code",
   "execution_count": 22,
   "id": "d1525ddf-8489-4c43-a886-fc828be6fde0",
   "metadata": {},
   "outputs": [
    {
     "name": "stdout",
     "output_type": "stream",
     "text": [
      "Decision Tree AUC: 0.9397559991933857\n",
      "Random Forest AUC: 0.9840693688243597\n"
     ]
    }
   ],
   "source": [
    "print(f\"Decision Tree AUC: {dtc_eval}\\nRandom Forest AUC: {rfc_eval}\")"
   ]
  },
  {
   "cell_type": "markdown",
   "id": "9fe16a2c-65fb-4282-a840-4b8cd0c0a1ab",
   "metadata": {},
   "source": [
    "**since the GBT schema does not raw prediction we need to input rawPredictonCol as 'prediction'**"
   ]
  },
  {
   "cell_type": "code",
   "execution_count": 23,
   "id": "f862c30a-effe-40ab-b55e-6fec8f5fabf6",
   "metadata": {},
   "outputs": [],
   "source": [
    "my_binary_eval2 = BinaryClassificationEvaluator(labelCol = 'PrivateIndex', \n",
    "                                                rawPredictionCol = 'prediction')"
   ]
  },
  {
   "cell_type": "code",
   "execution_count": 24,
   "id": "1ada1d54-4594-4636-ba29-3bdcf9086092",
   "metadata": {},
   "outputs": [
    {
     "name": "stdout",
     "output_type": "stream",
     "text": [
      "Gradient Boosted Tree AUC: 0.9131881427707199\n"
     ]
    }
   ],
   "source": [
    "print(f\"Gradient Boosted Tree AUC: {my_binary_eval2.evaluate(gbt_preds)}\")"
   ]
  },
  {
   "cell_type": "code",
   "execution_count": 25,
   "id": "c699f174-86bb-4a91-a274-0b3c5185ff8b",
   "metadata": {},
   "outputs": [],
   "source": [
    "from pyspark.ml.evaluation import MulticlassClassificationEvaluator"
   ]
  },
  {
   "cell_type": "code",
   "execution_count": 26,
   "id": "06ff0371-c659-4b3a-97b7-c419a2d08ca5",
   "metadata": {},
   "outputs": [],
   "source": [
    "acc_eval = MulticlassClassificationEvaluator(labelCol = 'PrivateIndex', metricName='accuracy')"
   ]
  },
  {
   "cell_type": "code",
   "execution_count": 27,
   "id": "8a63a66a-792f-425e-8d07-6b8ee2e7509e",
   "metadata": {},
   "outputs": [
    {
     "name": "stdout",
     "output_type": "stream",
     "text": [
      "DTC Accuracy: 0.9082969432314411\n",
      "RFC Accuracy: 0.9432314410480349\n",
      "GBT Accuracy: 0.9213973799126638\n"
     ]
    }
   ],
   "source": [
    "dtc_acc = acc_eval.evaluate(dtc_preds)\n",
    "rfc_acc = acc_eval.evaluate(rfc_preds)\n",
    "gbt_acc = acc_eval.evaluate(gbt_preds)\n",
    "\n",
    "print(f\"DTC Accuracy: {dtc_acc}\\nRFC Accuracy: {rfc_acc}\\nGBT Accuracy: {gbt_acc}\")"
   ]
  }
 ],
 "metadata": {
  "kernelspec": {
   "display_name": "Python 3 (ipykernel)",
   "language": "python",
   "name": "python3"
  },
  "language_info": {
   "codemirror_mode": {
    "name": "ipython",
    "version": 3
   },
   "file_extension": ".py",
   "mimetype": "text/x-python",
   "name": "python",
   "nbconvert_exporter": "python",
   "pygments_lexer": "ipython3",
   "version": "3.11.7"
  }
 },
 "nbformat": 4,
 "nbformat_minor": 5
}
