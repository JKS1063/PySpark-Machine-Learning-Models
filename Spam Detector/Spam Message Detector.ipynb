{
 "cells": [
  {
   "cell_type": "code",
   "execution_count": 1,
   "id": "4a156e69-1667-4cdc-b99e-48dffb810c61",
   "metadata": {},
   "outputs": [],
   "source": [
    "from pyspark.sql import SparkSession"
   ]
  },
  {
   "cell_type": "code",
   "execution_count": 2,
   "id": "48710941-cba3-4809-a693-9100bbc650fc",
   "metadata": {},
   "outputs": [],
   "source": [
    "spark = SparkSession.builder.appName('NLP').getOrCreate()"
   ]
  },
  {
   "cell_type": "code",
   "execution_count": 5,
   "id": "14d29f23-5c62-451d-a420-3c326e4fab79",
   "metadata": {},
   "outputs": [],
   "source": [
    "df = spark.read.csv('smsspamcollection/SMSSpamCollection', inferSchema = True, sep = '\\t')"
   ]
  },
  {
   "cell_type": "code",
   "execution_count": 6,
   "id": "22024fa7-5065-42d6-8cd0-3ce6479f6304",
   "metadata": {},
   "outputs": [
    {
     "name": "stdout",
     "output_type": "stream",
     "text": [
      "+----+--------------------+\n",
      "| _c0|                 _c1|\n",
      "+----+--------------------+\n",
      "| ham|Go until jurong p...|\n",
      "| ham|Ok lar... Joking ...|\n",
      "|spam|Free entry in 2 a...|\n",
      "| ham|U dun say so earl...|\n",
      "| ham|Nah I don't think...|\n",
      "|spam|FreeMsg Hey there...|\n",
      "| ham|Even my brother i...|\n",
      "| ham|As per your reque...|\n",
      "|spam|WINNER!! As a val...|\n",
      "|spam|Had your mobile 1...|\n",
      "| ham|I'm gonna be home...|\n",
      "|spam|SIX chances to wi...|\n",
      "|spam|URGENT! You have ...|\n",
      "| ham|I've been searchi...|\n",
      "| ham|I HAVE A DATE ON ...|\n",
      "|spam|XXXMobileMovieClu...|\n",
      "| ham|Oh k...i'm watchi...|\n",
      "| ham|Eh u remember how...|\n",
      "| ham|Fine if thats th...|\n",
      "|spam|England v Macedon...|\n",
      "+----+--------------------+\n",
      "only showing top 20 rows\n",
      "\n"
     ]
    }
   ],
   "source": [
    "df.show()"
   ]
  },
  {
   "cell_type": "code",
   "execution_count": 7,
   "id": "8c9bb29e-0d4e-4fbd-ae6a-cada4029dc01",
   "metadata": {},
   "outputs": [],
   "source": [
    "df = df.withColumnRenamed('_c0', 'class').withColumnRenamed('_c1', 'text')"
   ]
  },
  {
   "cell_type": "code",
   "execution_count": 8,
   "id": "0e4fccf9-dfde-4ceb-9f79-e7d27eb2d48c",
   "metadata": {},
   "outputs": [
    {
     "name": "stdout",
     "output_type": "stream",
     "text": [
      "+-----+--------------------+\n",
      "|class|                text|\n",
      "+-----+--------------------+\n",
      "|  ham|Go until jurong p...|\n",
      "|  ham|Ok lar... Joking ...|\n",
      "| spam|Free entry in 2 a...|\n",
      "|  ham|U dun say so earl...|\n",
      "|  ham|Nah I don't think...|\n",
      "+-----+--------------------+\n",
      "only showing top 5 rows\n",
      "\n"
     ]
    }
   ],
   "source": [
    "df.show(5)"
   ]
  },
  {
   "cell_type": "code",
   "execution_count": 9,
   "id": "ea28ff68-549e-47cc-bd0d-9fa3cbf44504",
   "metadata": {},
   "outputs": [],
   "source": [
    "from pyspark.sql.functions import length"
   ]
  },
  {
   "cell_type": "code",
   "execution_count": 11,
   "id": "ca0afe69-5aea-4471-b992-7478b8cf7b32",
   "metadata": {},
   "outputs": [],
   "source": [
    "df = df.withColumn('length', length(df['text']))"
   ]
  },
  {
   "cell_type": "code",
   "execution_count": 12,
   "id": "16215f71-d420-490c-b064-32eb113bf643",
   "metadata": {},
   "outputs": [
    {
     "name": "stdout",
     "output_type": "stream",
     "text": [
      "+-----+--------------------+------+\n",
      "|class|                text|length|\n",
      "+-----+--------------------+------+\n",
      "|  ham|Go until jurong p...|   111|\n",
      "|  ham|Ok lar... Joking ...|    29|\n",
      "| spam|Free entry in 2 a...|   155|\n",
      "|  ham|U dun say so earl...|    49|\n",
      "|  ham|Nah I don't think...|    61|\n",
      "+-----+--------------------+------+\n",
      "only showing top 5 rows\n",
      "\n"
     ]
    }
   ],
   "source": [
    "df.show(5)"
   ]
  },
  {
   "cell_type": "code",
   "execution_count": 13,
   "id": "a2c088ea-ccb5-4f08-b616-f3e4fa304808",
   "metadata": {},
   "outputs": [
    {
     "name": "stdout",
     "output_type": "stream",
     "text": [
      "+-----+-----------------+\n",
      "|class|      avg(length)|\n",
      "+-----+-----------------+\n",
      "|  ham|71.45431945307645|\n",
      "| spam|138.6706827309237|\n",
      "+-----+-----------------+\n",
      "\n"
     ]
    }
   ],
   "source": [
    "df.groupBy('class').mean().show()"
   ]
  },
  {
   "cell_type": "markdown",
   "id": "58452deb-8b6f-43ab-9da0-ae88a36e1019",
   "metadata": {},
   "source": [
    "### **Data Preprocessing**"
   ]
  },
  {
   "cell_type": "code",
   "execution_count": 14,
   "id": "b05a7b8a-f96b-429f-b018-9751f9dde0f7",
   "metadata": {},
   "outputs": [],
   "source": [
    "from pyspark.ml.feature import Tokenizer, StopWordsRemover, CountVectorizer, IDF, StringIndexer"
   ]
  },
  {
   "cell_type": "code",
   "execution_count": 15,
   "id": "a7f8927b-541a-4137-b35f-031df430781f",
   "metadata": {},
   "outputs": [],
   "source": [
    "tokenizer = Tokenizer(inputCol = 'text', outputCol='token_text')"
   ]
  },
  {
   "cell_type": "code",
   "execution_count": 17,
   "id": "d66ca1f3-f328-4934-86b9-5429468c213a",
   "metadata": {},
   "outputs": [
    {
     "name": "stdout",
     "output_type": "stream",
     "text": [
      "+-----+--------------------+------+--------------------+\n",
      "|class|                text|length|          token_text|\n",
      "+-----+--------------------+------+--------------------+\n",
      "|  ham|Go until jurong p...|   111|[go, until, juron...|\n",
      "|  ham|Ok lar... Joking ...|    29|[ok, lar..., joki...|\n",
      "| spam|Free entry in 2 a...|   155|[free, entry, in,...|\n",
      "|  ham|U dun say so earl...|    49|[u, dun, say, so,...|\n",
      "|  ham|Nah I don't think...|    61|[nah, i, don't, t...|\n",
      "+-----+--------------------+------+--------------------+\n",
      "only showing top 5 rows\n",
      "\n"
     ]
    }
   ],
   "source": [
    "tokenizer.transform(df).show(5)"
   ]
  },
  {
   "cell_type": "code",
   "execution_count": 28,
   "id": "ec9837b1-de73-4d0a-a53d-3b5f49d55c6b",
   "metadata": {},
   "outputs": [],
   "source": [
    "stop_remove = StopWordsRemover(inputCol='token_text', outputCol='stop_token')\n",
    "count_vec = CountVectorizer(inputCol = 'stop_token', outputCol = 'c_vec')"
   ]
  },
  {
   "cell_type": "code",
   "execution_count": 29,
   "id": "ccdfb8b8-07b6-49a7-afcf-bf4bcdc5d702",
   "metadata": {},
   "outputs": [],
   "source": [
    "idf = IDF(inputCol = 'c_vec', outputCol = 'tf_idf')"
   ]
  },
  {
   "cell_type": "code",
   "execution_count": 30,
   "id": "cbd09079-ec05-484d-9267-6d3aabc4e4cc",
   "metadata": {},
   "outputs": [],
   "source": [
    "ham_spam_to_numeric = StringIndexer(inputCol = 'class', outputCol = 'label')"
   ]
  },
  {
   "cell_type": "code",
   "execution_count": 22,
   "id": "d5d3db11-6861-49a8-8d44-908d818f806f",
   "metadata": {},
   "outputs": [],
   "source": [
    "from pyspark.ml.feature import VectorAssembler"
   ]
  },
  {
   "cell_type": "code",
   "execution_count": 23,
   "id": "7be20a25-ad01-4016-8ec0-e89d18121d1a",
   "metadata": {},
   "outputs": [],
   "source": [
    "clean_up = VectorAssembler(inputCols=['tf_idf','length'], outputCol='features')"
   ]
  },
  {
   "cell_type": "code",
   "execution_count": 24,
   "id": "83990355-2591-4868-944e-a300b2ce695e",
   "metadata": {},
   "outputs": [],
   "source": [
    "from pyspark.ml.classification import NaiveBayes"
   ]
  },
  {
   "cell_type": "code",
   "execution_count": 38,
   "id": "37a4f008-b848-47bc-ab73-ed852dc15dce",
   "metadata": {},
   "outputs": [],
   "source": [
    "nb = NaiveBayes()"
   ]
  },
  {
   "cell_type": "code",
   "execution_count": 25,
   "id": "308b8431-f57c-4757-a4d5-c4cca1afa814",
   "metadata": {},
   "outputs": [],
   "source": [
    "from pyspark.ml import Pipeline"
   ]
  },
  {
   "cell_type": "code",
   "execution_count": 31,
   "id": "7caefa31-b539-435b-9134-5a3bd14bc1cd",
   "metadata": {},
   "outputs": [],
   "source": [
    "data_prep_pipe = Pipeline(stages = [ham_spam_to_numeric, tokenizer, stop_remove,\n",
    "                                   count_vec, idf, clean_up])"
   ]
  },
  {
   "cell_type": "code",
   "execution_count": 32,
   "id": "427fa0dc-7973-4947-9748-ec4eef15f39d",
   "metadata": {},
   "outputs": [],
   "source": [
    "cleaner = data_prep_pipe.fit(df)"
   ]
  },
  {
   "cell_type": "code",
   "execution_count": 33,
   "id": "20248053-02d6-44fd-a040-ec22e5665417",
   "metadata": {},
   "outputs": [],
   "source": [
    "clean_data = cleaner.transform(df)"
   ]
  },
  {
   "cell_type": "code",
   "execution_count": 34,
   "id": "898fe438-78dc-484d-85b7-7a73b4015cbc",
   "metadata": {},
   "outputs": [
    {
     "data": {
      "text/plain": [
       "['class',\n",
       " 'text',\n",
       " 'length',\n",
       " 'label',\n",
       " 'token_text',\n",
       " 'stop_token',\n",
       " 'c_vec',\n",
       " 'tf_idf',\n",
       " 'features']"
      ]
     },
     "execution_count": 34,
     "metadata": {},
     "output_type": "execute_result"
    }
   ],
   "source": [
    "clean_data.columns"
   ]
  },
  {
   "cell_type": "code",
   "execution_count": 35,
   "id": "d3c5c14a-453a-4f39-883a-710e0576a9c1",
   "metadata": {},
   "outputs": [],
   "source": [
    "clean_data = clean_data.select('label', 'features')"
   ]
  },
  {
   "cell_type": "code",
   "execution_count": 36,
   "id": "15634d7c-c448-41c1-96c2-56ab686f2b31",
   "metadata": {},
   "outputs": [
    {
     "name": "stdout",
     "output_type": "stream",
     "text": [
      "+-----+--------------------+\n",
      "|label|            features|\n",
      "+-----+--------------------+\n",
      "|  0.0|(13424,[7,11,31,6...|\n",
      "|  0.0|(13424,[0,24,301,...|\n",
      "|  1.0|(13424,[2,13,19,3...|\n",
      "|  0.0|(13424,[0,70,80,1...|\n",
      "|  0.0|(13424,[36,134,31...|\n",
      "+-----+--------------------+\n",
      "only showing top 5 rows\n",
      "\n"
     ]
    }
   ],
   "source": [
    "clean_data.show(5)"
   ]
  },
  {
   "cell_type": "code",
   "execution_count": 37,
   "id": "04a7c723-5824-4aa5-a9d2-b51c02b06b0e",
   "metadata": {},
   "outputs": [],
   "source": [
    "train_data, test_data = clean_data.randomSplit([0.7, 0.3])"
   ]
  },
  {
   "cell_type": "markdown",
   "id": "0d7d9742-930f-4819-89d3-d13b7c80d52a",
   "metadata": {},
   "source": [
    "### **Model Building**"
   ]
  },
  {
   "cell_type": "code",
   "execution_count": 39,
   "id": "b7ee08f7-9ee4-4337-be51-e554693ddf8c",
   "metadata": {},
   "outputs": [],
   "source": [
    "spam_detector = nb.fit(train_data)"
   ]
  },
  {
   "cell_type": "code",
   "execution_count": 40,
   "id": "aaeed5da-adea-4e35-b1ef-c169f0d334f3",
   "metadata": {},
   "outputs": [
    {
     "name": "stdout",
     "output_type": "stream",
     "text": [
      "root\n",
      " |-- class: string (nullable = true)\n",
      " |-- text: string (nullable = true)\n",
      " |-- length: integer (nullable = true)\n",
      "\n"
     ]
    }
   ],
   "source": [
    "df.printSchema()"
   ]
  },
  {
   "cell_type": "code",
   "execution_count": 41,
   "id": "cd4e86de-99ab-4185-9b1f-45b192865f56",
   "metadata": {},
   "outputs": [],
   "source": [
    "test_results = spam_detector.transform(test_data)"
   ]
  },
  {
   "cell_type": "code",
   "execution_count": 42,
   "id": "9672e15e-f220-466a-8b25-93c0f2e62927",
   "metadata": {},
   "outputs": [
    {
     "name": "stdout",
     "output_type": "stream",
     "text": [
      "+-----+--------------------+--------------------+--------------------+----------+\n",
      "|label|            features|       rawPrediction|         probability|prediction|\n",
      "+-----+--------------------+--------------------+--------------------+----------+\n",
      "|  0.0|(13424,[0,1,2,41,...|[-1060.4062133367...|[1.0,3.3199371641...|       0.0|\n",
      "|  0.0|(13424,[0,1,3,9,1...|[-572.94237611087...|[1.0,2.5459964297...|       0.0|\n",
      "|  0.0|(13424,[0,1,4,50,...|[-845.25310539219...|[1.0,2.2783870174...|       0.0|\n",
      "|  0.0|(13424,[0,1,7,8,1...|[-872.37664310114...|[1.0,6.2222391651...|       0.0|\n",
      "|  0.0|(13424,[0,1,9,14,...|[-539.55947440068...|[1.0,4.2197257827...|       0.0|\n",
      "|  0.0|(13424,[0,1,12,33...|[-448.79277503567...|[1.0,1.5100150694...|       0.0|\n",
      "|  0.0|(13424,[0,1,20,27...|[-969.17149694408...|[0.99999999999999...|       0.0|\n",
      "|  0.0|(13424,[0,1,21,27...|[-992.39400204681...|[1.0,6.8360906366...|       0.0|\n",
      "|  0.0|(13424,[0,1,24,31...|[-356.09232928705...|[1.0,2.8308221239...|       0.0|\n",
      "|  0.0|(13424,[0,1,31,43...|[-343.40240232207...|[1.0,1.6506303741...|       0.0|\n",
      "|  0.0|(13424,[0,1,46,17...|[-1158.7537860155...|[1.33436000498764...|       1.0|\n",
      "|  0.0|(13424,[0,1,71,10...|[-685.70184495055...|[1.0,7.4819987844...|       0.0|\n",
      "|  0.0|(13424,[0,1,428,6...|[-296.40261726459...|[1.0,1.9124868037...|       0.0|\n",
      "|  0.0|(13424,[0,1,881,1...|[-97.401600944850...|[0.99999990474998...|       0.0|\n",
      "|  0.0|(13424,[0,1,881,1...|[-99.085482562736...|[0.99999992835253...|       0.0|\n",
      "|  0.0|(13424,[0,2,3,4,6...|[-1289.4092139840...|[1.0,3.2390719922...|       0.0|\n",
      "|  0.0|(13424,[0,2,3,5,3...|[-507.68813762032...|[0.99999999999999...|       0.0|\n",
      "|  0.0|(13424,[0,2,3,6,9...|[-3410.2940025507...|[1.0,2.8466341615...|       0.0|\n",
      "|  0.0|(13424,[0,2,3,6,9...|[-3410.2940025507...|[1.0,2.8466341615...|       0.0|\n",
      "|  0.0|(13424,[0,2,4,8,2...|[-551.39871234377...|[1.0,1.5220679103...|       0.0|\n",
      "+-----+--------------------+--------------------+--------------------+----------+\n",
      "only showing top 20 rows\n",
      "\n"
     ]
    }
   ],
   "source": [
    "test_results.show()"
   ]
  },
  {
   "cell_type": "code",
   "execution_count": 43,
   "id": "4fcda2be-80c2-4211-a33f-55a5348ee478",
   "metadata": {},
   "outputs": [],
   "source": [
    "from pyspark.ml.evaluation import MulticlassClassificationEvaluator"
   ]
  },
  {
   "cell_type": "code",
   "execution_count": 44,
   "id": "3b18d632-18e4-47ed-a3bc-f04c5c196925",
   "metadata": {},
   "outputs": [],
   "source": [
    "acc_eval = MulticlassClassificationEvaluator()"
   ]
  },
  {
   "cell_type": "code",
   "execution_count": 45,
   "id": "9c5f0226-5070-4fcc-b7f6-c93e485f896d",
   "metadata": {},
   "outputs": [],
   "source": [
    "acc = acc_eval.evaluate(test_results)"
   ]
  },
  {
   "cell_type": "code",
   "execution_count": 46,
   "id": "caf466d5-c9d0-46a4-8f4d-905fe89474eb",
   "metadata": {},
   "outputs": [
    {
     "name": "stdout",
     "output_type": "stream",
     "text": [
      "Accuracy of NB model: 0.9233062819717635\n"
     ]
    }
   ],
   "source": [
    "print(f\"Accuracy of NB model: {acc}\")"
   ]
  },
  {
   "cell_type": "code",
   "execution_count": null,
   "id": "bdf486cf-7eaa-4773-97ac-735c8f6d727d",
   "metadata": {},
   "outputs": [],
   "source": []
  }
 ],
 "metadata": {
  "kernelspec": {
   "display_name": "PySpark",
   "language": "python",
   "name": "pyspark"
  },
  "language_info": {
   "codemirror_mode": {
    "name": "ipython",
    "version": 3
   },
   "file_extension": ".py",
   "mimetype": "text/x-python",
   "name": "python",
   "nbconvert_exporter": "python",
   "pygments_lexer": "ipython3",
   "version": "3.12.4"
  }
 },
 "nbformat": 4,
 "nbformat_minor": 5
}
