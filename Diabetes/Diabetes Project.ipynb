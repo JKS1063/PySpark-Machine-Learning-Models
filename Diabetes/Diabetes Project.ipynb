{
 "cells": [
  {
   "cell_type": "code",
   "execution_count": 1,
   "id": "5ef08c51-ea2f-4ebf-8637-c2b10e759239",
   "metadata": {},
   "outputs": [],
   "source": [
    "from pyspark.sql import SparkSession"
   ]
  },
  {
   "cell_type": "code",
   "execution_count": 2,
   "id": "76df8013-3ed4-49e4-adeb-130c0267a894",
   "metadata": {},
   "outputs": [],
   "source": [
    "spark = SparkSession.builder.appName('diabetes').getOrCreate()"
   ]
  },
  {
   "cell_type": "code",
   "execution_count": 3,
   "id": "3e010475-615e-4e2c-95b6-5242dc5c2fa3",
   "metadata": {},
   "outputs": [],
   "source": [
    "df = spark.read.csv('diabetes.csv', inferSchema = True, header = True)"
   ]
  },
  {
   "cell_type": "code",
   "execution_count": 4,
   "id": "39588c4a-c887-4898-afb1-102bd5a0079a",
   "metadata": {},
   "outputs": [
    {
     "name": "stdout",
     "output_type": "stream",
     "text": [
      "+-----------+-------+-------------+-------------+-------+----+------------------------+---+-------+\n",
      "|Pregnancies|Glucose|BloodPressure|SkinThickness|Insulin| BMI|DiabetesPedigreeFunction|Age|Outcome|\n",
      "+-----------+-------+-------------+-------------+-------+----+------------------------+---+-------+\n",
      "|          6|    148|           72|           35|      0|33.6|                   0.627| 50|      1|\n",
      "|          1|     85|           66|           29|      0|26.6|                   0.351| 31|      0|\n",
      "|          8|    183|           64|            0|      0|23.3|                   0.672| 32|      1|\n",
      "|          1|     89|           66|           23|     94|28.1|                   0.167| 21|      0|\n",
      "|          0|    137|           40|           35|    168|43.1|                   2.288| 33|      1|\n",
      "+-----------+-------+-------------+-------------+-------+----+------------------------+---+-------+\n",
      "only showing top 5 rows\n",
      "\n"
     ]
    }
   ],
   "source": [
    "df.show(5)"
   ]
  },
  {
   "cell_type": "code",
   "execution_count": 5,
   "id": "b8171aee-f3c4-4ecd-a6e9-992e9f8ad94b",
   "metadata": {},
   "outputs": [
    {
     "name": "stdout",
     "output_type": "stream",
     "text": [
      "root\n",
      " |-- Pregnancies: integer (nullable = true)\n",
      " |-- Glucose: integer (nullable = true)\n",
      " |-- BloodPressure: integer (nullable = true)\n",
      " |-- SkinThickness: integer (nullable = true)\n",
      " |-- Insulin: integer (nullable = true)\n",
      " |-- BMI: double (nullable = true)\n",
      " |-- DiabetesPedigreeFunction: double (nullable = true)\n",
      " |-- Age: integer (nullable = true)\n",
      " |-- Outcome: integer (nullable = true)\n",
      "\n"
     ]
    }
   ],
   "source": [
    "df.printSchema()"
   ]
  },
  {
   "cell_type": "code",
   "execution_count": 6,
   "id": "08ebba01-1271-4b3c-87e0-2e5860944d64",
   "metadata": {},
   "outputs": [],
   "source": [
    "from pyspark.ml.feature import VectorAssembler"
   ]
  },
  {
   "cell_type": "code",
   "execution_count": 7,
   "id": "226f26e8-05e0-412d-8256-4c2b32147263",
   "metadata": {},
   "outputs": [
    {
     "data": {
      "text/plain": [
       "['Pregnancies',\n",
       " 'Glucose',\n",
       " 'BloodPressure',\n",
       " 'SkinThickness',\n",
       " 'Insulin',\n",
       " 'BMI',\n",
       " 'DiabetesPedigreeFunction',\n",
       " 'Age',\n",
       " 'Outcome']"
      ]
     },
     "execution_count": 7,
     "metadata": {},
     "output_type": "execute_result"
    }
   ],
   "source": [
    "df.columns"
   ]
  },
  {
   "cell_type": "code",
   "execution_count": 8,
   "id": "f0abd27a-382d-4a34-b397-869f41605027",
   "metadata": {},
   "outputs": [],
   "source": [
    "assembler = VectorAssembler(inputCols = ['Pregnancies', 'Glucose', 'BloodPressure', 'SkinThickness', 'Insulin', 'BMI', 'DiabetesPedigreeFunction','Age',],\n",
    "                            outputCol = 'features')"
   ]
  },
  {
   "cell_type": "code",
   "execution_count": 9,
   "id": "380d22c7-2f36-47aa-9b77-12e21d8f9e6f",
   "metadata": {},
   "outputs": [],
   "source": [
    "output = assembler.transform(df)"
   ]
  },
  {
   "cell_type": "code",
   "execution_count": 10,
   "id": "129f440a-6e24-436f-abc5-0caecef887a7",
   "metadata": {},
   "outputs": [],
   "source": [
    "final_data = output.select('features', 'outcome')"
   ]
  },
  {
   "cell_type": "code",
   "execution_count": 12,
   "id": "105e0bef-d27f-4490-9b31-d53ad1a6b4ee",
   "metadata": {},
   "outputs": [
    {
     "name": "stdout",
     "output_type": "stream",
     "text": [
      "+--------------------+-------+\n",
      "|            features|outcome|\n",
      "+--------------------+-------+\n",
      "|[6.0,148.0,72.0,3...|      1|\n",
      "|[1.0,85.0,66.0,29...|      0|\n",
      "|[8.0,183.0,64.0,0...|      1|\n",
      "|[1.0,89.0,66.0,23...|      0|\n",
      "|[0.0,137.0,40.0,3...|      1|\n",
      "+--------------------+-------+\n",
      "only showing top 5 rows\n",
      "\n"
     ]
    }
   ],
   "source": [
    "final_data.show(5)"
   ]
  },
  {
   "cell_type": "markdown",
   "id": "a619873d-be99-4f01-9094-b3fbd942550a",
   "metadata": {},
   "source": [
    "### Model Building"
   ]
  },
  {
   "cell_type": "code",
   "execution_count": 13,
   "id": "f09b5536-e92f-49ed-b556-b254e4d9ba51",
   "metadata": {},
   "outputs": [],
   "source": [
    "from pyspark.ml.classification import LogisticRegression"
   ]
  },
  {
   "cell_type": "code",
   "execution_count": 14,
   "id": "d0ff7b7e-962c-43f4-b5a5-c137514e5dc9",
   "metadata": {},
   "outputs": [],
   "source": [
    "db_log = LogisticRegression(featuresCol = 'features', labelCol = 'outcome')"
   ]
  },
  {
   "cell_type": "code",
   "execution_count": 15,
   "id": "ec9a06a9-0346-4c4a-8526-ee7cea79b385",
   "metadata": {},
   "outputs": [],
   "source": [
    "train_data, test_data = final_data.randomSplit([0.7, 0.3])"
   ]
  },
  {
   "cell_type": "code",
   "execution_count": 16,
   "id": "3ae6491b-ad18-4084-8abf-e7c0c2749264",
   "metadata": {},
   "outputs": [],
   "source": [
    "model_fit = db_log.fit(train_data)"
   ]
  },
  {
   "cell_type": "code",
   "execution_count": 17,
   "id": "b9ccc8c9-a141-44aa-9985-6f60f34e7db0",
   "metadata": {},
   "outputs": [],
   "source": [
    "log_summary = model_fit.summary"
   ]
  },
  {
   "cell_type": "code",
   "execution_count": 18,
   "id": "fe5fe71d-6a79-4cfe-a9f6-f487a65e7b49",
   "metadata": {},
   "outputs": [
    {
     "name": "stdout",
     "output_type": "stream",
     "text": [
      "+--------------------+-------+--------------------+--------------------+----------+\n",
      "|            features|outcome|       rawPrediction|         probability|prediction|\n",
      "+--------------------+-------+--------------------+--------------------+----------+\n",
      "|(8,[0,1,6,7],[2.0...|    0.0|[4.93139364815669...|[0.99283526478231...|       0.0|\n",
      "|(8,[0,1,6,7],[2.0...|    0.0|[4.4736958752674,...|[0.98872352310470...|       0.0|\n",
      "|(8,[0,1,6,7],[6.0...|    0.0|[2.92420493993301...|[0.94903008484216...|       0.0|\n",
      "|(8,[1,5,6,7],[73....|    0.0|[3.17813276079927...|[0.96000303081928...|       0.0|\n",
      "|(8,[1,5,6,7],[99....|    0.0|[2.02207462032959...|[0.88309535894919...|       0.0|\n",
      "|(8,[1,5,6,7],[117...|    0.0|[-0.1294694532908...|[0.46767777374580...|       1.0|\n",
      "|(8,[1,5,6,7],[119...|    1.0|[0.70799767837921...|[0.66995856906289...|       0.0|\n",
      "|(8,[1,5,6,7],[141...|    1.0|[-1.0554447694163...|[0.25818092709584...|       1.0|\n",
      "|(8,[1,5,6,7],[145...|    1.0|[-1.6389990733694...|[0.16260130485125...|       1.0|\n",
      "|(8,[1,5,6,7],[167...|    1.0|[-1.4862830454237...|[0.18448027752204...|       1.0|\n",
      "+--------------------+-------+--------------------+--------------------+----------+\n",
      "only showing top 10 rows\n",
      "\n"
     ]
    }
   ],
   "source": [
    "log_summary.predictions.show(10)"
   ]
  },
  {
   "cell_type": "markdown",
   "id": "d84399e0-a9e6-4769-ae3e-77f45f85407c",
   "metadata": {},
   "source": [
    "### Model Evaluation"
   ]
  },
  {
   "cell_type": "code",
   "execution_count": 19,
   "id": "f34d528c-0d86-48e9-9609-8785f393db5f",
   "metadata": {},
   "outputs": [],
   "source": [
    "pred_and_labels = model_fit.evaluate(test_data)"
   ]
  },
  {
   "cell_type": "code",
   "execution_count": 21,
   "id": "524f3452-2633-4b00-92cf-70cb0872b8a6",
   "metadata": {},
   "outputs": [
    {
     "name": "stdout",
     "output_type": "stream",
     "text": [
      "+--------------------+-------+--------------------+--------------------+----------+\n",
      "|            features|outcome|       rawPrediction|         probability|prediction|\n",
      "+--------------------+-------+--------------------+--------------------+----------+\n",
      "|(8,[0,1,6,7],[3.0...|      0|[4.55607953777347...|[0.98960601409427...|       0.0|\n",
      "|(8,[0,1,6,7],[7.0...|      0|[3.08234771505387...|[0.95615870448872...|       0.0|\n",
      "|(8,[0,1,6,7],[10....|      1|[2.30027095682968...|[0.90889947702644...|       0.0|\n",
      "|(8,[1,5,6,7],[131...|      1|[-0.7648783878142...|[0.31758805373043...|       1.0|\n",
      "|(8,[1,5,6,7],[138...|      1|[-0.7913085571019...|[0.31188776591560...|       1.0|\n",
      "+--------------------+-------+--------------------+--------------------+----------+\n",
      "only showing top 5 rows\n",
      "\n"
     ]
    }
   ],
   "source": [
    "pred_and_labels.predictions.show(5)"
   ]
  },
  {
   "cell_type": "code",
   "execution_count": 22,
   "id": "52863b80-0a71-4aed-9b4f-2cca8e49fe21",
   "metadata": {},
   "outputs": [],
   "source": [
    "from pyspark.ml.evaluation import BinaryClassificationEvaluator"
   ]
  },
  {
   "cell_type": "code",
   "execution_count": 23,
   "id": "b7e8e33f-f075-4889-849f-b213d46dfd9a",
   "metadata": {},
   "outputs": [],
   "source": [
    "model_eval = BinaryClassificationEvaluator(rawPredictionCol = 'prediction', labelCol = 'outcome')"
   ]
  },
  {
   "cell_type": "code",
   "execution_count": 24,
   "id": "1b21557b-eb5c-4036-a137-0b0dcdebdbd5",
   "metadata": {},
   "outputs": [],
   "source": [
    "final_eval = model_eval.evaluate(pred_and_labels.predictions)"
   ]
  },
  {
   "cell_type": "code",
   "execution_count": 25,
   "id": "3605e4a0-7eb1-46cd-aef7-51d2c5d2fb95",
   "metadata": {},
   "outputs": [
    {
     "data": {
      "text/plain": [
       "0.7188597565956056"
      ]
     },
     "execution_count": 25,
     "metadata": {},
     "output_type": "execute_result"
    }
   ],
   "source": [
    "final_eval"
   ]
  },
  {
   "cell_type": "code",
   "execution_count": 29,
   "id": "11987666-2ccf-4e9f-a1d2-251929315c5e",
   "metadata": {},
   "outputs": [
    {
     "name": "stdout",
     "output_type": "stream",
     "text": [
      "DataFrame shape: (768, 9)\n"
     ]
    }
   ],
   "source": [
    "print(f\"DataFrame shape: {((df.count(), len(df.columns)))}\")"
   ]
  },
  {
   "cell_type": "code",
   "execution_count": null,
   "id": "9b134312-46e7-4579-81c0-653875ae7701",
   "metadata": {},
   "outputs": [],
   "source": []
  }
 ],
 "metadata": {
  "kernelspec": {
   "display_name": "Python 3 (ipykernel)",
   "language": "python",
   "name": "python3"
  },
  "language_info": {
   "codemirror_mode": {
    "name": "ipython",
    "version": 3
   },
   "file_extension": ".py",
   "mimetype": "text/x-python",
   "name": "python",
   "nbconvert_exporter": "python",
   "pygments_lexer": "ipython3",
   "version": "3.11.7"
  }
 },
 "nbformat": 4,
 "nbformat_minor": 5
}
