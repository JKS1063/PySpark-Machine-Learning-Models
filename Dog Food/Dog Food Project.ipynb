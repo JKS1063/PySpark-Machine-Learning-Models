{
 "cells": [
  {
   "cell_type": "code",
   "execution_count": 1,
   "id": "046d3798-131c-41a5-9d47-896d429d59f8",
   "metadata": {},
   "outputs": [],
   "source": [
    "from pyspark.sql import SparkSession"
   ]
  },
  {
   "cell_type": "code",
   "execution_count": 2,
   "id": "2d09c38d-2f6b-4413-947d-cc958de935f1",
   "metadata": {},
   "outputs": [],
   "source": [
    "spark = SparkSession.builder.appName('DogFood').getOrCreate()"
   ]
  },
  {
   "cell_type": "code",
   "execution_count": 3,
   "id": "c146f95f-2fea-4f29-a6d4-b13ee1cf8f3c",
   "metadata": {},
   "outputs": [],
   "source": [
    "df = spark.read.csv('dog_food.csv', inferSchema = True, header = True)"
   ]
  },
  {
   "cell_type": "code",
   "execution_count": 4,
   "id": "7a016dd6-00c6-4f5a-9d38-7af58d64f4eb",
   "metadata": {},
   "outputs": [
    {
     "name": "stdout",
     "output_type": "stream",
     "text": [
      "+---+---+----+---+-------+\n",
      "|  A|  B|   C|  D|Spoiled|\n",
      "+---+---+----+---+-------+\n",
      "|  4|  2|12.0|  3|    1.0|\n",
      "|  5|  6|12.0|  7|    1.0|\n",
      "|  6|  2|13.0|  6|    1.0|\n",
      "|  4|  2|12.0|  1|    1.0|\n",
      "|  4|  2|12.0|  3|    1.0|\n",
      "+---+---+----+---+-------+\n",
      "only showing top 5 rows\n",
      "\n"
     ]
    }
   ],
   "source": [
    "df.show(5)"
   ]
  },
  {
   "cell_type": "code",
   "execution_count": 5,
   "id": "d4112052-b771-46cd-af25-e0a1fa7a40a3",
   "metadata": {},
   "outputs": [
    {
     "name": "stdout",
     "output_type": "stream",
     "text": [
      "+-------+------------------+------------------+------------------+------------------+-------------------+\n",
      "|summary|                 A|                 B|                 C|                 D|            Spoiled|\n",
      "+-------+------------------+------------------+------------------+------------------+-------------------+\n",
      "|  count|               490|               490|               490|               490|                490|\n",
      "|   mean|  5.53469387755102| 5.504081632653061| 9.126530612244897| 5.579591836734694| 0.2857142857142857|\n",
      "| stddev|2.9515204234399057|2.8537966089662063|2.0555451971054275|2.8548369309982857|0.45221563164613465|\n",
      "|    min|                 1|                 1|               5.0|                 1|                0.0|\n",
      "|    max|                10|                10|              14.0|                10|                1.0|\n",
      "+-------+------------------+------------------+------------------+------------------+-------------------+\n",
      "\n"
     ]
    }
   ],
   "source": [
    "df.describe().show()"
   ]
  },
  {
   "cell_type": "code",
   "execution_count": 6,
   "id": "bad1747c-bbc5-4baf-86e0-d417eb3c1e22",
   "metadata": {},
   "outputs": [
    {
     "name": "stdout",
     "output_type": "stream",
     "text": [
      "root\n",
      " |-- A: integer (nullable = true)\n",
      " |-- B: integer (nullable = true)\n",
      " |-- C: double (nullable = true)\n",
      " |-- D: integer (nullable = true)\n",
      " |-- Spoiled: double (nullable = true)\n",
      "\n"
     ]
    }
   ],
   "source": [
    "df.printSchema()"
   ]
  },
  {
   "cell_type": "markdown",
   "id": "2410d479-7886-4767-936c-e60f43098ce9",
   "metadata": {},
   "source": [
    "### Data Wrangling"
   ]
  },
  {
   "cell_type": "code",
   "execution_count": 7,
   "id": "b127c347-0fb5-429c-936a-2616def9add9",
   "metadata": {},
   "outputs": [],
   "source": [
    "df.createOrReplaceTempView('df')"
   ]
  },
  {
   "cell_type": "code",
   "execution_count": 8,
   "id": "08ae9fe3-5b17-485e-807a-5c10c6a4660b",
   "metadata": {},
   "outputs": [
    {
     "name": "stdout",
     "output_type": "stream",
     "text": [
      "+----+\n",
      "|   C|\n",
      "+----+\n",
      "| 8.0|\n",
      "| 7.0|\n",
      "|11.0|\n",
      "|14.0|\n",
      "|10.0|\n",
      "|13.0|\n",
      "| 6.0|\n",
      "| 5.0|\n",
      "| 9.0|\n",
      "|12.0|\n",
      "+----+\n",
      "\n"
     ]
    }
   ],
   "source": [
    "spark.sql(\"select distinct C from df\").show()"
   ]
  },
  {
   "cell_type": "code",
   "execution_count": 9,
   "id": "4d6f69c7-8c16-487d-b29b-91660e9f86fe",
   "metadata": {},
   "outputs": [],
   "source": [
    "df = df.withColumn('C', df['C'].cast('int'))"
   ]
  },
  {
   "cell_type": "code",
   "execution_count": 10,
   "id": "418bd2b2-20c3-40b3-ac36-57eee0c7e5ae",
   "metadata": {},
   "outputs": [
    {
     "name": "stdout",
     "output_type": "stream",
     "text": [
      "root\n",
      " |-- A: integer (nullable = true)\n",
      " |-- B: integer (nullable = true)\n",
      " |-- C: integer (nullable = true)\n",
      " |-- D: integer (nullable = true)\n",
      " |-- Spoiled: double (nullable = true)\n",
      "\n"
     ]
    }
   ],
   "source": [
    "df.printSchema()"
   ]
  },
  {
   "cell_type": "code",
   "execution_count": 11,
   "id": "b7a5fa89-45c2-4086-a8a7-409d2d01ba20",
   "metadata": {},
   "outputs": [],
   "source": [
    "from pyspark.ml.feature import VectorAssembler"
   ]
  },
  {
   "cell_type": "code",
   "execution_count": 12,
   "id": "3a72e9ab-127e-4311-9e65-6e426853ddbe",
   "metadata": {},
   "outputs": [
    {
     "data": {
      "text/plain": [
       "['A', 'B', 'C', 'D', 'Spoiled']"
      ]
     },
     "execution_count": 12,
     "metadata": {},
     "output_type": "execute_result"
    }
   ],
   "source": [
    "df.columns"
   ]
  },
  {
   "cell_type": "code",
   "execution_count": 13,
   "id": "e9d5d6d3-d0c1-4a27-8559-521f58e33c10",
   "metadata": {},
   "outputs": [],
   "source": [
    "assembler = VectorAssembler(inputCols = ['A', 'B', 'C', 'D'], outputCol = 'features')"
   ]
  },
  {
   "cell_type": "code",
   "execution_count": 14,
   "id": "f00bcdca-17aa-475e-bc80-19a19475e82c",
   "metadata": {},
   "outputs": [],
   "source": [
    "output = assembler.transform(df)"
   ]
  },
  {
   "cell_type": "code",
   "execution_count": 15,
   "id": "a8114941-7020-44a1-9007-3f63ee6fa8f0",
   "metadata": {},
   "outputs": [],
   "source": [
    "final_data = output.select('features', 'Spoiled')"
   ]
  },
  {
   "cell_type": "code",
   "execution_count": 16,
   "id": "1e862f5a-b0b6-42a1-b98a-9cee61362265",
   "metadata": {},
   "outputs": [
    {
     "name": "stdout",
     "output_type": "stream",
     "text": [
      "+------------------+-------+\n",
      "|          features|Spoiled|\n",
      "+------------------+-------+\n",
      "|[4.0,2.0,12.0,3.0]|    1.0|\n",
      "|[5.0,6.0,12.0,7.0]|    1.0|\n",
      "|[6.0,2.0,13.0,6.0]|    1.0|\n",
      "|[4.0,2.0,12.0,1.0]|    1.0|\n",
      "|[4.0,2.0,12.0,3.0]|    1.0|\n",
      "+------------------+-------+\n",
      "only showing top 5 rows\n",
      "\n"
     ]
    }
   ],
   "source": [
    "final_data.show(5)"
   ]
  },
  {
   "cell_type": "markdown",
   "id": "90eec204-5a68-4c33-920b-8ce15f3cc3ae",
   "metadata": {},
   "source": [
    "### Model Buiding"
   ]
  },
  {
   "cell_type": "code",
   "execution_count": 18,
   "id": "5866ad9d-645f-4b40-ace6-a5e1fd91d23d",
   "metadata": {},
   "outputs": [],
   "source": [
    "from pyspark.ml.classification import RandomForestClassifier"
   ]
  },
  {
   "cell_type": "code",
   "execution_count": 19,
   "id": "8531731f-6541-4ace-bf48-b14cfbaf30a7",
   "metadata": {},
   "outputs": [],
   "source": [
    "rfc = RandomForestClassifier(labelCol = 'Spoiled', featuresCol = 'features', numTrees = 200)"
   ]
  },
  {
   "cell_type": "code",
   "execution_count": 20,
   "id": "61319b7d-3c57-4b4a-8fcc-73ee246340b1",
   "metadata": {},
   "outputs": [],
   "source": [
    "rfc_model = rfc.fit(final_data)"
   ]
  },
  {
   "cell_type": "code",
   "execution_count": 21,
   "id": "f253f843-ac39-4cd3-bb01-9f2f8c9b770b",
   "metadata": {},
   "outputs": [
    {
     "data": {
      "text/plain": [
       "SparseVector(4, {0: 0.0205, 1: 0.0186, 2: 0.9382, 3: 0.0227})"
      ]
     },
     "execution_count": 21,
     "metadata": {},
     "output_type": "execute_result"
    }
   ],
   "source": [
    "rfc_model.featureImportances"
   ]
  },
  {
   "cell_type": "markdown",
   "id": "97a3720e-590d-41b4-9dbf-ece1e8520250",
   "metadata": {},
   "source": [
    "**It is concluded that Chemical C is cause for early spoiling**"
   ]
  },
  {
   "cell_type": "code",
   "execution_count": 22,
   "id": "df34a0c6-00f6-4227-95ac-c76a4fa52239",
   "metadata": {},
   "outputs": [],
   "source": [
    "train_data, test_data = final_data.randomSplit([0.7, 0.3])"
   ]
  },
  {
   "cell_type": "code",
   "execution_count": 23,
   "id": "0bbbcbc3-2b08-4678-838b-da6b2cdd7aae",
   "metadata": {},
   "outputs": [],
   "source": [
    "rfc_model = rfc.fit(train_data)"
   ]
  },
  {
   "cell_type": "code",
   "execution_count": 24,
   "id": "844fe5f1-40da-454b-9a98-c13b66b5291b",
   "metadata": {},
   "outputs": [],
   "source": [
    "rfc_preds = rfc_model.transform(test_data)"
   ]
  },
  {
   "cell_type": "code",
   "execution_count": 25,
   "id": "97b30fd8-fa4d-406d-9eca-145663efc83f",
   "metadata": {},
   "outputs": [
    {
     "name": "stdout",
     "output_type": "stream",
     "text": [
      "+------------------+-------+--------------------+--------------------+----------+\n",
      "|          features|Spoiled|       rawPrediction|         probability|prediction|\n",
      "+------------------+-------+--------------------+--------------------+----------+\n",
      "|[1.0,1.0,12.0,4.0]|    1.0|[4.10057338918824...|[0.02050286694594...|       1.0|\n",
      "| [1.0,2.0,9.0,4.0]|    0.0|[194.281401504126...|[0.97140700752063...|       0.0|\n",
      "| [1.0,3.0,8.0,5.0]|    0.0|[194.507774297803...|[0.97253887148901...|       0.0|\n",
      "| [1.0,3.0,9.0,8.0]|    0.0|[186.546914473146...|[0.93273457236573...|       0.0|\n",
      "| [1.0,4.0,8.0,1.0]|    0.0|[196.170662526655...|[0.98085331263327...|       0.0|\n",
      "+------------------+-------+--------------------+--------------------+----------+\n",
      "only showing top 5 rows\n",
      "\n"
     ]
    }
   ],
   "source": [
    "rfc_preds.show(5)"
   ]
  },
  {
   "cell_type": "code",
   "execution_count": 26,
   "id": "c14bba6b-713d-4850-9657-53ebd5279174",
   "metadata": {},
   "outputs": [
    {
     "name": "stdout",
     "output_type": "stream",
     "text": [
      "root\n",
      " |-- features: vector (nullable = true)\n",
      " |-- Spoiled: double (nullable = true)\n",
      " |-- rawPrediction: vector (nullable = true)\n",
      " |-- probability: vector (nullable = true)\n",
      " |-- prediction: double (nullable = false)\n",
      "\n"
     ]
    }
   ],
   "source": [
    "rfc_preds.printSchema()"
   ]
  },
  {
   "cell_type": "markdown",
   "id": "7da421ab-6f44-4389-aa11-3ff6e115c391",
   "metadata": {},
   "source": [
    "### Model Evaluation"
   ]
  },
  {
   "cell_type": "code",
   "execution_count": 27,
   "id": "225fff3b-302c-4d3a-814a-24d54ba67f68",
   "metadata": {},
   "outputs": [],
   "source": [
    "from pyspark.ml.evaluation import BinaryClassificationEvaluator, MulticlassClassificationEvaluator"
   ]
  },
  {
   "cell_type": "code",
   "execution_count": 28,
   "id": "8c4b577d-c7ec-4a1b-a6a3-a8794e25a922",
   "metadata": {},
   "outputs": [],
   "source": [
    "my_eval = BinaryClassificationEvaluator(labelCol = 'Spoiled')\n",
    "acc = MulticlassClassificationEvaluator(labelCol = 'Spoiled', metricName = 'accuracy')"
   ]
  },
  {
   "cell_type": "code",
   "execution_count": 29,
   "id": "ac03741c-c88e-4b8a-bc42-cbac38e17bf3",
   "metadata": {},
   "outputs": [],
   "source": [
    "rfc_eval = my_eval.evaluate(rfc_preds)\n",
    "rfc_acc = acc.evaluate(rfc_preds)"
   ]
  },
  {
   "cell_type": "code",
   "execution_count": 30,
   "id": "c0fc338b-a8ff-46e1-8b50-d4d22342cda0",
   "metadata": {},
   "outputs": [
    {
     "name": "stdout",
     "output_type": "stream",
     "text": [
      "Random Forest Model AUC: 0.9900826446280991\n",
      "Random Forest Model Accuracy: 0.9805194805194806\n"
     ]
    }
   ],
   "source": [
    "print(f\"Random Forest Model AUC: {rfc_eval}\\nRandom Forest Model Accuracy: {rfc_acc}\")"
   ]
  }
 ],
 "metadata": {
  "kernelspec": {
   "display_name": "Python 3 (ipykernel)",
   "language": "python",
   "name": "python3"
  },
  "language_info": {
   "codemirror_mode": {
    "name": "ipython",
    "version": 3
   },
   "file_extension": ".py",
   "mimetype": "text/x-python",
   "name": "python",
   "nbconvert_exporter": "python",
   "pygments_lexer": "ipython3",
   "version": "3.11.7"
  }
 },
 "nbformat": 4,
 "nbformat_minor": 5
}
